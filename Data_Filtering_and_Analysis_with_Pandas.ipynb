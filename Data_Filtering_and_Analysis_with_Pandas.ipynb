{
 "cells": [
  {
   "cell_type": "code",
   "execution_count": 42,
   "id": "2d07f335-4978-477e-872e-796d727da837",
   "metadata": {},
   "outputs": [
    {
     "name": "stdout",
     "output_type": "stream",
     "text": [
      "   rank             name  matches  innings  runs  highest  100s  50s\n",
      "0     1          V Kohli      207      199  6283      113     5   42\n",
      "1     2         S Dhawan      194      191  5784      106     2   44\n",
      "2     3     Rohit Sharma      213      208  5611      109     1   40\n",
      "3     4     Suresh Raina      205      200  5528      100     1   39\n",
      "4     5     David Warner      150      150  5449      126     4   50\n",
      "5     6  A B de Villiers      184      170  5162      133     3   40\n",
      "6     7      Chris Gayle      142      141  4965      175     6   31\n",
      "7     8        M S Dhoni      220      193  4746       84     0   23\n",
      "8     9    Robin Uthappa      193      186  4722       87     0   25\n",
      "9    10    Gutam Gambhir      154      152  4217       93     0   36\n"
     ]
    }
   ],
   "source": [
    "# Q1. Problem Statement: Data Filtering using Pandas\n",
    "# Write a Python program that reads the player.csv (provided on LMS) file into a\n",
    "# DataFrame, then shows only those players who played more than 150 innings\n",
    "# and scored at least two centuries and 35 fifties.\n",
    "# import pandas as pd\n",
    "\n",
    "cricket = pd.read_csv(\"player.csv\")\n",
    "print(cricket)"
   ]
  },
  {
   "cell_type": "code",
   "execution_count": 44,
   "id": "7158d8ed-2ba4-4f57-a443-3e7fab1fc327",
   "metadata": {},
   "outputs": [
    {
     "data": {
      "text/html": [
       "<div>\n",
       "<style scoped>\n",
       "    .dataframe tbody tr th:only-of-type {\n",
       "        vertical-align: middle;\n",
       "    }\n",
       "\n",
       "    .dataframe tbody tr th {\n",
       "        vertical-align: top;\n",
       "    }\n",
       "\n",
       "    .dataframe thead th {\n",
       "        text-align: right;\n",
       "    }\n",
       "</style>\n",
       "<table border=\"1\" class=\"dataframe\">\n",
       "  <thead>\n",
       "    <tr style=\"text-align: right;\">\n",
       "      <th></th>\n",
       "      <th>rank</th>\n",
       "      <th>name</th>\n",
       "      <th>matches</th>\n",
       "      <th>innings</th>\n",
       "      <th>runs</th>\n",
       "      <th>highest</th>\n",
       "      <th>100s</th>\n",
       "      <th>50s</th>\n",
       "    </tr>\n",
       "  </thead>\n",
       "  <tbody>\n",
       "    <tr>\n",
       "      <th>0</th>\n",
       "      <td>1</td>\n",
       "      <td>V Kohli</td>\n",
       "      <td>207</td>\n",
       "      <td>199</td>\n",
       "      <td>6283</td>\n",
       "      <td>113</td>\n",
       "      <td>5</td>\n",
       "      <td>42</td>\n",
       "    </tr>\n",
       "    <tr>\n",
       "      <th>1</th>\n",
       "      <td>2</td>\n",
       "      <td>S Dhawan</td>\n",
       "      <td>194</td>\n",
       "      <td>191</td>\n",
       "      <td>5784</td>\n",
       "      <td>106</td>\n",
       "      <td>2</td>\n",
       "      <td>44</td>\n",
       "    </tr>\n",
       "    <tr>\n",
       "      <th>5</th>\n",
       "      <td>6</td>\n",
       "      <td>A B de Villiers</td>\n",
       "      <td>184</td>\n",
       "      <td>170</td>\n",
       "      <td>5162</td>\n",
       "      <td>133</td>\n",
       "      <td>3</td>\n",
       "      <td>40</td>\n",
       "    </tr>\n",
       "  </tbody>\n",
       "</table>\n",
       "</div>"
      ],
      "text/plain": [
       "   rank             name  matches  innings  runs  highest  100s  50s\n",
       "0     1          V Kohli      207      199  6283      113     5   42\n",
       "1     2         S Dhawan      194      191  5784      106     2   44\n",
       "5     6  A B de Villiers      184      170  5162      133     3   40"
      ]
     },
     "execution_count": 44,
     "metadata": {},
     "output_type": "execute_result"
    }
   ],
   "source": [
    "cricket[(cricket['innings'] > 150) & (cricket['100s'] > 1) & (cricket['50s'] >34)]"
   ]
  },
  {
   "cell_type": "code",
   "execution_count": 46,
   "id": "5f8e00d1-dd66-48fe-8263-c7c2f438229e",
   "metadata": {},
   "outputs": [
    {
     "name": "stdout",
     "output_type": "stream",
     "text": [
      "   rank             name  matches  innings  runs  highest  100s  50s\n",
      "0     1          V Kohli      207      199  6283      113     5   42\n",
      "1     2         S Dhawan      194      191  5784      106     2   44\n",
      "2     3     Rohit Sharma      213      208  5611      109     1   40\n",
      "3     4     Suresh Raina      205      200  5528      100     1   39\n",
      "4     5     David Warner      150      150  5449      126     4   50\n",
      "5     6  A B de Villiers      184      170  5162      133     3   40\n",
      "6     7      Chris Gayle      142      141  4965      175     6   31\n"
     ]
    }
   ],
   "source": [
    "# Q2. Problem Statement: Data Filtering using Pandas\n",
    "# Use the above data set and do the below tasks.\n",
    "# 1. Remove the data of players who didn't score a single century\n",
    "# 2. Replace the player name \"V Kohli \" with \"Virat Kohli “\n",
    "# 3. How many matches they weren't getting a chance for batting to fetch\n",
    "# that and stored in a new column and named it as “not batting”\n",
    "# 4. Fetch data where they scored neither 100 nor 50 in matches and\n",
    "# store it in the new column as renamed as “low score innings”\n",
    "\n",
    "# cricket.drop(['100s'] == 0, axis = 1,inplace = True)\n",
    "# print(cricket)\n",
    "\n",
    "cricket.drop(cricket[cricket['100s'] == 0].index, inplace=True)\n",
    "print(cricket)"
   ]
  },
  {
   "cell_type": "code",
   "execution_count": 48,
   "id": "ab1fb06a-6764-4923-96c2-01844e62021b",
   "metadata": {},
   "outputs": [
    {
     "name": "stdout",
     "output_type": "stream",
     "text": [
      "   rank             name  matches  innings  runs  highest  100s  50s\n",
      "0     1      Virat Kohli      207      199  6283      113     5   42\n",
      "1     2         S Dhawan      194      191  5784      106     2   44\n",
      "2     3     Rohit Sharma      213      208  5611      109     1   40\n",
      "3     4     Suresh Raina      205      200  5528      100     1   39\n",
      "4     5     David Warner      150      150  5449      126     4   50\n",
      "5     6  A B de Villiers      184      170  5162      133     3   40\n",
      "6     7      Chris Gayle      142      141  4965      175     6   31\n"
     ]
    }
   ],
   "source": [
    "# 2. Replace the player name \"V Kohli \" with \"Virat Kohli “\n",
    "\n",
    "cricket['name'] = cricket['name'].replace(\"V Kohli\" , \"Virat Kohli\")\n",
    "# cricket['player'] = cricket['player'].replace(\"V Kohli\", \"Virat Kohli\")\n",
    "print(cricket)"
   ]
  },
  {
   "cell_type": "code",
   "execution_count": 52,
   "id": "4d903c50-6c9d-47c4-aaf2-2b108f08f8fa",
   "metadata": {},
   "outputs": [
    {
     "name": "stdout",
     "output_type": "stream",
     "text": [
      "   rank             name  matches  innings  runs  highest  100s  50s  \\\n",
      "0     1      Virat Kohli      207      199  6283      113     5   42   \n",
      "1     2         S Dhawan      194      191  5784      106     2   44   \n",
      "2     3     Rohit Sharma      213      208  5611      109     1   40   \n",
      "3     4     Suresh Raina      205      200  5528      100     1   39   \n",
      "4     5     David Warner      150      150  5449      126     4   50   \n",
      "5     6  A B de Villiers      184      170  5162      133     3   40   \n",
      "6     7      Chris Gayle      142      141  4965      175     6   31   \n",
      "\n",
      "   no batting  \n",
      "0           8  \n",
      "1           3  \n",
      "2           5  \n",
      "3           5  \n",
      "4           0  \n",
      "5          14  \n",
      "6           1  \n"
     ]
    }
   ],
   "source": [
    "# 3. How many matches they weren't getting a chance for batting to fetch that and stored in a new column and named it as “not batting”\n",
    "\n",
    "cricket['no batting'] = cricket['matches'] - cricket['innings']\n",
    "print(cricket)"
   ]
  },
  {
   "cell_type": "code",
   "execution_count": 56,
   "id": "d3f00ee1-8a19-4faf-a865-bce26a37b6cf",
   "metadata": {},
   "outputs": [
    {
     "name": "stdout",
     "output_type": "stream",
     "text": [
      "   rank             name  matches  innings  runs  highest  100s  50s  \\\n",
      "0     1      Virat Kohli      207      199  6283      113     5   42   \n",
      "1     2         S Dhawan      194      191  5784      106     2   44   \n",
      "2     3     Rohit Sharma      213      208  5611      109     1   40   \n",
      "3     4     Suresh Raina      205      200  5528      100     1   39   \n",
      "4     5     David Warner      150      150  5449      126     4   50   \n",
      "5     6  A B de Villiers      184      170  5162      133     3   40   \n",
      "6     7      Chris Gayle      142      141  4965      175     6   31   \n",
      "\n",
      "   no batting  low scored innings  \n",
      "0           8                 152  \n",
      "1           3                 145  \n",
      "2           5                 167  \n",
      "3           5                 160  \n",
      "4           0                  96  \n",
      "5          14                 127  \n",
      "6           1                 104  \n"
     ]
    }
   ],
   "source": [
    "# 4. Fetch data where they scored neither 100 nor 50 in matches and store it in the new column as renamed as “low score innings”\n",
    "\n",
    "cricket['low scored innings'] = cricket['innings'] - (cricket['100s'] + cricket['50s']) \n",
    "print(cricket)"
   ]
  }
 ],
 "metadata": {
  "kernelspec": {
   "display_name": "Python 3 (ipykernel)",
   "language": "python",
   "name": "python3"
  },
  "language_info": {
   "codemirror_mode": {
    "name": "ipython",
    "version": 3
   },
   "file_extension": ".py",
   "mimetype": "text/x-python",
   "name": "python",
   "nbconvert_exporter": "python",
   "pygments_lexer": "ipython3",
   "version": "3.12.4"
  }
 },
 "nbformat": 4,
 "nbformat_minor": 5
}
